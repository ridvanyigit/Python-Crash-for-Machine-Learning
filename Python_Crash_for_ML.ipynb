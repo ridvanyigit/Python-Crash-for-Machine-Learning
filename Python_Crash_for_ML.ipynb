{
  "cells": [
    {
      "cell_type": "markdown",
      "metadata": {
        "id": "view-in-github",
        "colab_type": "text"
      },
      "source": [
        "<a href=\"https://colab.research.google.com/github/ridvanyigit/Python-Crash-for-Machine-Learning/blob/main/Python_Crash_for_ML.ipynb\" target=\"_parent\"><img src=\"https://colab.research.google.com/assets/colab-badge.svg\" alt=\"Open In Colab\"/></a>"
      ]
    },
    {
      "cell_type": "markdown",
      "metadata": {
        "id": "yRqfSdy0QXQi"
      },
      "source": [
        "# Python Aritmetics Operations"
      ]
    },
    {
      "cell_type": "code",
      "execution_count": 1,
      "metadata": {
        "id": "jhw_I56fP68x"
      },
      "outputs": [],
      "source": [
        "import pandas as pd\n",
        "import numpy as np\n",
        "import warnings\n",
        "warnings.filterwarnings('ignore')"
      ]
    },
    {
      "cell_type": "code",
      "execution_count": 2,
      "metadata": {
        "colab": {
          "base_uri": "https://localhost:8080/"
        },
        "id": "3UcpOlQxQSvM",
        "outputId": "cab7319e-c011-4c0a-b5fd-72f3d87a6b12"
      },
      "outputs": [
        {
          "output_type": "execute_result",
          "data": {
            "text/plain": [
              "2"
            ]
          },
          "metadata": {},
          "execution_count": 2
        }
      ],
      "source": [
        "1 + 1"
      ]
    },
    {
      "cell_type": "code",
      "execution_count": 3,
      "metadata": {
        "colab": {
          "base_uri": "https://localhost:8080/"
        },
        "id": "QA2Nq_OUQStG",
        "outputId": "ac96ed2a-e15a-4682-8928-94c3896e1bef"
      },
      "outputs": [
        {
          "output_type": "execute_result",
          "data": {
            "text/plain": [
              "8"
            ]
          },
          "metadata": {},
          "execution_count": 3
        }
      ],
      "source": [
        "2 * 4"
      ]
    },
    {
      "cell_type": "code",
      "execution_count": 4,
      "metadata": {
        "colab": {
          "base_uri": "https://localhost:8080/"
        },
        "id": "HKoOFJ9iQSrB",
        "outputId": "31232a53-2099-41c6-f73b-112d66727657"
      },
      "outputs": [
        {
          "output_type": "execute_result",
          "data": {
            "text/plain": [
              "2"
            ]
          },
          "metadata": {},
          "execution_count": 4
        }
      ],
      "source": [
        "32 % 5"
      ]
    },
    {
      "cell_type": "code",
      "execution_count": 5,
      "metadata": {
        "colab": {
          "base_uri": "https://localhost:8080/"
        },
        "id": "vafRMcwiQSo8",
        "outputId": "ad5cbc7a-0511-4ada-a667-4a90b108db52"
      },
      "outputs": [
        {
          "output_type": "execute_result",
          "data": {
            "text/plain": [
              "2.0"
            ]
          },
          "metadata": {},
          "execution_count": 5
        }
      ],
      "source": [
        "(32 - 4)/14"
      ]
    },
    {
      "cell_type": "code",
      "execution_count": 6,
      "metadata": {
        "colab": {
          "base_uri": "https://localhost:8080/"
        },
        "id": "EimCfUPmQSm3",
        "outputId": "b07bc809-04c7-4824-a5a8-b40208954fa5"
      },
      "outputs": [
        {
          "output_type": "execute_result",
          "data": {
            "text/plain": [
              "5.0"
            ]
          },
          "metadata": {},
          "execution_count": 6
        }
      ],
      "source": [
        "20/4"
      ]
    },
    {
      "cell_type": "code",
      "execution_count": 7,
      "metadata": {
        "colab": {
          "base_uri": "https://localhost:8080/"
        },
        "id": "-i17YWv2QSky",
        "outputId": "e3b26c46-ccc1-4b07-eb4f-4cd4aa2848e9"
      },
      "outputs": [
        {
          "output_type": "execute_result",
          "data": {
            "text/plain": [
              "5"
            ]
          },
          "metadata": {},
          "execution_count": 7
        }
      ],
      "source": [
        "20//4"
      ]
    },
    {
      "cell_type": "code",
      "execution_count": 8,
      "metadata": {
        "colab": {
          "base_uri": "https://localhost:8080/"
        },
        "id": "1ADEIx2XQSir",
        "outputId": "49528cbc-8f78-4297-b898-7f2134b205e3"
      },
      "outputs": [
        {
          "output_type": "execute_result",
          "data": {
            "text/plain": [
              "8"
            ]
          },
          "metadata": {},
          "execution_count": 8
        }
      ],
      "source": [
        "2**3"
      ]
    },
    {
      "cell_type": "markdown",
      "metadata": {
        "id": "ZzvBuWloRUgF"
      },
      "source": [
        "# Python Data Types"
      ]
    },
    {
      "cell_type": "code",
      "execution_count": 9,
      "metadata": {
        "colab": {
          "base_uri": "https://localhost:8080/"
        },
        "id": "vZmao2_CQSgm",
        "outputId": "b667a018-713b-4d19-a535-5f8943e9ff5f"
      },
      "outputs": [
        {
          "output_type": "execute_result",
          "data": {
            "text/plain": [
              "int"
            ]
          },
          "metadata": {},
          "execution_count": 9
        }
      ],
      "source": [
        "type(5)"
      ]
    },
    {
      "cell_type": "code",
      "execution_count": 10,
      "metadata": {
        "colab": {
          "base_uri": "https://localhost:8080/"
        },
        "id": "YksDxoaDRaoQ",
        "outputId": "6f6f005e-3b56-4d18-b8ac-6b36241106ab"
      },
      "outputs": [
        {
          "output_type": "execute_result",
          "data": {
            "text/plain": [
              "float"
            ]
          },
          "metadata": {},
          "execution_count": 10
        }
      ],
      "source": [
        "type(5.0)"
      ]
    },
    {
      "cell_type": "code",
      "execution_count": 11,
      "metadata": {
        "colab": {
          "base_uri": "https://localhost:8080/"
        },
        "id": "6nqNCHNmRdyl",
        "outputId": "26d59e8e-eec6-4d50-c1e7-ea36054d638c"
      },
      "outputs": [
        {
          "output_type": "execute_result",
          "data": {
            "text/plain": [
              "str"
            ]
          },
          "metadata": {},
          "execution_count": 11
        }
      ],
      "source": [
        "type('5.0')"
      ]
    },
    {
      "cell_type": "code",
      "execution_count": 12,
      "metadata": {
        "colab": {
          "base_uri": "https://localhost:8080/"
        },
        "id": "7UGkRi7vRdwA",
        "outputId": "c2b4ee9f-9bd8-445d-b57a-7866fae444fb"
      },
      "outputs": [
        {
          "output_type": "execute_result",
          "data": {
            "text/plain": [
              "str"
            ]
          },
          "metadata": {},
          "execution_count": 12
        }
      ],
      "source": [
        "type('my name is Bob')"
      ]
    },
    {
      "cell_type": "code",
      "execution_count": 13,
      "metadata": {
        "colab": {
          "base_uri": "https://localhost:8080/"
        },
        "id": "eqigobsaRdt7",
        "outputId": "655c9ed9-5229-477b-aac0-92308abc0225"
      },
      "outputs": [
        {
          "output_type": "execute_result",
          "data": {
            "text/plain": [
              "int"
            ]
          },
          "metadata": {},
          "execution_count": 13
        }
      ],
      "source": [
        "a = 5\n",
        "type(a)"
      ]
    },
    {
      "cell_type": "code",
      "execution_count": 14,
      "metadata": {
        "colab": {
          "base_uri": "https://localhost:8080/"
        },
        "id": "th5-TtcnRdpv",
        "outputId": "53f82ea3-eb2f-446d-afe9-8c1c4aa4ab8e"
      },
      "outputs": [
        {
          "output_type": "execute_result",
          "data": {
            "text/plain": [
              "complex"
            ]
          },
          "metadata": {},
          "execution_count": 14
        }
      ],
      "source": [
        "b = (1 + 1j)\n",
        "type(b)"
      ]
    },
    {
      "cell_type": "code",
      "execution_count": 15,
      "metadata": {
        "colab": {
          "base_uri": "https://localhost:8080/"
        },
        "id": "kqN19phCRdna",
        "outputId": "f0726772-0480-4bce-a52c-cdd62a087f82"
      },
      "outputs": [
        {
          "output_type": "execute_result",
          "data": {
            "text/plain": [
              "list"
            ]
          },
          "metadata": {},
          "execution_count": 15
        }
      ],
      "source": [
        "c = [1,2,3]\n",
        "type(c)"
      ]
    },
    {
      "cell_type": "code",
      "execution_count": 16,
      "metadata": {
        "colab": {
          "base_uri": "https://localhost:8080/"
        },
        "id": "Ya9PQNtxRdlT",
        "outputId": "e57c7786-0f71-42ed-d73f-1e0a28f3bfef"
      },
      "outputs": [
        {
          "output_type": "execute_result",
          "data": {
            "text/plain": [
              "tuple"
            ]
          },
          "metadata": {},
          "execution_count": 16
        }
      ],
      "source": [
        "d = (1,2,3)\n",
        "type(d)"
      ]
    },
    {
      "cell_type": "code",
      "execution_count": 17,
      "metadata": {
        "colab": {
          "base_uri": "https://localhost:8080/"
        },
        "id": "EV1MfXDjRdi8",
        "outputId": "83df781c-225f-44c8-9108-a09453a9ef19"
      },
      "outputs": [
        {
          "output_type": "execute_result",
          "data": {
            "text/plain": [
              "set"
            ]
          },
          "metadata": {},
          "execution_count": 17
        }
      ],
      "source": [
        "e = {1,2,3}\n",
        "type(e)"
      ]
    },
    {
      "cell_type": "code",
      "execution_count": 18,
      "metadata": {
        "colab": {
          "base_uri": "https://localhost:8080/"
        },
        "id": "VGYWL3M9Rdgs",
        "outputId": "fb928b64-8e2a-4eeb-83fb-c9e8a5e0edf9"
      },
      "outputs": [
        {
          "output_type": "execute_result",
          "data": {
            "text/plain": [
              "dict"
            ]
          },
          "metadata": {},
          "execution_count": 18
        }
      ],
      "source": [
        "f = {'a':1, 'b':2, 'c':3}\n",
        "type(f)"
      ]
    },
    {
      "cell_type": "code",
      "execution_count": 19,
      "metadata": {
        "colab": {
          "base_uri": "https://localhost:8080/"
        },
        "id": "fUNu2mMDRdct",
        "outputId": "59971ab2-aa92-445f-db4d-fd476f4e02f7"
      },
      "outputs": [
        {
          "output_type": "execute_result",
          "data": {
            "text/plain": [
              "bool"
            ]
          },
          "metadata": {},
          "execution_count": 19
        }
      ],
      "source": [
        "g = True\n",
        "type(g)"
      ]
    },
    {
      "cell_type": "code",
      "execution_count": 20,
      "metadata": {
        "colab": {
          "base_uri": "https://localhost:8080/"
        },
        "id": "5dZJnzMWRdaa",
        "outputId": "955fcc50-9a00-45d0-ce1f-0ee8ba4db6f8"
      },
      "outputs": [
        {
          "output_type": "execute_result",
          "data": {
            "text/plain": [
              "NoneType"
            ]
          },
          "metadata": {},
          "execution_count": 20
        }
      ],
      "source": [
        "h = None\n",
        "type(h)"
      ]
    },
    {
      "cell_type": "code",
      "execution_count": 21,
      "metadata": {
        "colab": {
          "base_uri": "https://localhost:8080/"
        },
        "id": "hVpTNpQmRdYC",
        "outputId": "0ef31c07-8d25-4020-e91a-6c95a3897704"
      },
      "outputs": [
        {
          "output_type": "execute_result",
          "data": {
            "text/plain": [
              "bytes"
            ]
          },
          "metadata": {},
          "execution_count": 21
        }
      ],
      "source": [
        "i = b\"hello\"\n",
        "type(i)"
      ]
    },
    {
      "cell_type": "code",
      "execution_count": 22,
      "metadata": {
        "colab": {
          "base_uri": "https://localhost:8080/"
        },
        "id": "QEbFEQwIRdV8",
        "outputId": "f7fe66c3-cf85-4daf-e005-8d189144e035"
      },
      "outputs": [
        {
          "output_type": "execute_result",
          "data": {
            "text/plain": [
              "bytearray"
            ]
          },
          "metadata": {},
          "execution_count": 22
        }
      ],
      "source": [
        "bytearray(1)\n",
        "type(bytearray(1))"
      ]
    },
    {
      "cell_type": "markdown",
      "metadata": {
        "id": "v2v_Gv3hSxiT"
      },
      "source": [
        "# Variable Casting\n",
        "\n",
        "*   integer\n",
        "*   float\n",
        "*   string\n",
        "\n"
      ]
    },
    {
      "cell_type": "code",
      "execution_count": 23,
      "metadata": {
        "colab": {
          "base_uri": "https://localhost:8080/"
        },
        "id": "JMHpvpdCRdT5",
        "outputId": "26a99ad4-21a7-4cd2-8cde-46c584ce601f"
      },
      "outputs": [
        {
          "output_type": "execute_result",
          "data": {
            "text/plain": [
              "(5, int)"
            ]
          },
          "metadata": {},
          "execution_count": 23
        }
      ],
      "source": [
        "a = 5\n",
        "a, type(a)"
      ]
    },
    {
      "cell_type": "code",
      "execution_count": 24,
      "metadata": {
        "colab": {
          "base_uri": "https://localhost:8080/"
        },
        "id": "LUy65eDQRdRj",
        "outputId": "a31cae2f-8a22-4e98-a68b-6f691e47e507"
      },
      "outputs": [
        {
          "output_type": "execute_result",
          "data": {
            "text/plain": [
              "(5.0, float)"
            ]
          },
          "metadata": {},
          "execution_count": 24
        }
      ],
      "source": [
        "b = float(a)\n",
        "b, type(b)"
      ]
    },
    {
      "cell_type": "code",
      "execution_count": 25,
      "metadata": {
        "colab": {
          "base_uri": "https://localhost:8080/"
        },
        "id": "JBj9GKSaRdPs",
        "outputId": "89dd80b6-db09-48e1-b5db-fcef5912b001"
      },
      "outputs": [
        {
          "output_type": "execute_result",
          "data": {
            "text/plain": [
              "5"
            ]
          },
          "metadata": {},
          "execution_count": 25
        }
      ],
      "source": [
        "int(b)"
      ]
    },
    {
      "cell_type": "code",
      "execution_count": 26,
      "metadata": {
        "colab": {
          "base_uri": "https://localhost:8080/",
          "height": 35
        },
        "id": "Fzb83rTxRdNV",
        "outputId": "f80fdaa0-e53c-481a-f4f3-90f8d5780502"
      },
      "outputs": [
        {
          "output_type": "execute_result",
          "data": {
            "text/plain": [
              "'5'"
            ],
            "application/vnd.google.colaboratory.intrinsic+json": {
              "type": "string"
            }
          },
          "metadata": {},
          "execution_count": 26
        }
      ],
      "source": [
        "str(a)"
      ]
    },
    {
      "cell_type": "code",
      "execution_count": 27,
      "metadata": {
        "colab": {
          "base_uri": "https://localhost:8080/",
          "height": 35
        },
        "id": "1mqtRskFRdLQ",
        "outputId": "a2227cb6-bd51-4ea7-bee8-38b8de4fc4e6"
      },
      "outputs": [
        {
          "output_type": "execute_result",
          "data": {
            "text/plain": [
              "'5.0'"
            ],
            "application/vnd.google.colaboratory.intrinsic+json": {
              "type": "string"
            }
          },
          "metadata": {},
          "execution_count": 27
        }
      ],
      "source": [
        "c = str(b)\n",
        "c"
      ]
    },
    {
      "cell_type": "code",
      "execution_count": 28,
      "metadata": {
        "colab": {
          "base_uri": "https://localhost:8080/",
          "height": 35
        },
        "id": "rv2BIvsGRdJL",
        "outputId": "6ff7c042-1f20-4384-89f0-bf18b1687b09"
      },
      "outputs": [
        {
          "output_type": "execute_result",
          "data": {
            "text/plain": [
              "'5.0'"
            ],
            "application/vnd.google.colaboratory.intrinsic+json": {
              "type": "string"
            }
          },
          "metadata": {},
          "execution_count": 28
        }
      ],
      "source": [
        "d = str(b)\n",
        "d"
      ]
    },
    {
      "cell_type": "code",
      "execution_count": 29,
      "metadata": {
        "colab": {
          "base_uri": "https://localhost:8080/"
        },
        "id": "rXO0IxFERdG1",
        "outputId": "a65ca921-f278-492b-b787-1c9284e488d4"
      },
      "outputs": [
        {
          "output_type": "execute_result",
          "data": {
            "text/plain": [
              "5"
            ]
          },
          "metadata": {},
          "execution_count": 29
        }
      ],
      "source": [
        "int(float(d))"
      ]
    },
    {
      "cell_type": "markdown",
      "metadata": {
        "id": "92ihBIrRT_n8"
      },
      "source": [
        "# String"
      ]
    },
    {
      "cell_type": "code",
      "execution_count": 30,
      "metadata": {
        "colab": {
          "base_uri": "https://localhost:8080/",
          "height": 35
        },
        "id": "2x1P0ElQRdEj",
        "outputId": "173f9aaa-719a-4dc9-9e1d-58ef233b6d08"
      },
      "outputs": [
        {
          "output_type": "execute_result",
          "data": {
            "text/plain": [
              "'hello'"
            ],
            "application/vnd.google.colaboratory.intrinsic+json": {
              "type": "string"
            }
          },
          "metadata": {},
          "execution_count": 30
        }
      ],
      "source": [
        "'hello'"
      ]
    },
    {
      "cell_type": "code",
      "execution_count": 31,
      "metadata": {
        "colab": {
          "base_uri": "https://localhost:8080/",
          "height": 35
        },
        "id": "4WkcBwsJRdCa",
        "outputId": "2cf2be87-065a-40c5-ae20-c878a58885c3"
      },
      "outputs": [
        {
          "output_type": "execute_result",
          "data": {
            "text/plain": [
              "'hello'"
            ],
            "application/vnd.google.colaboratory.intrinsic+json": {
              "type": "string"
            }
          },
          "metadata": {},
          "execution_count": 31
        }
      ],
      "source": [
        "\"hello\""
      ]
    },
    {
      "cell_type": "code",
      "execution_count": 32,
      "metadata": {
        "colab": {
          "base_uri": "https://localhost:8080/"
        },
        "id": "Efpt73exRamN",
        "outputId": "6cf42117-aeb8-470e-f4e8-3353ae86a11c"
      },
      "outputs": [
        {
          "output_type": "stream",
          "name": "stdout",
          "text": [
            "hello\n"
          ]
        }
      ],
      "source": [
        "print(\"hello\")"
      ]
    },
    {
      "cell_type": "code",
      "execution_count": 33,
      "metadata": {
        "colab": {
          "base_uri": "https://localhost:8080/",
          "height": 35
        },
        "id": "9rPOOl11Rakm",
        "outputId": "712966a0-854a-4c57-b05d-fd768f1173f5"
      },
      "outputs": [
        {
          "output_type": "execute_result",
          "data": {
            "text/plain": [
              "'hello, my name is Bob.\\nI am 20 years old.'"
            ],
            "application/vnd.google.colaboratory.intrinsic+json": {
              "type": "string"
            }
          },
          "metadata": {},
          "execution_count": 33
        }
      ],
      "source": [
        "a = '''hello, my name is Bob.\n",
        "I am 20 years old.'''\n",
        "a"
      ]
    },
    {
      "cell_type": "code",
      "execution_count": 34,
      "metadata": {
        "colab": {
          "base_uri": "https://localhost:8080/"
        },
        "id": "BD3FYO-1RaiQ",
        "outputId": "f1b079c0-ab42-4c10-87c6-59d843c410af"
      },
      "outputs": [
        {
          "output_type": "stream",
          "name": "stdout",
          "text": [
            "hello, my name is Bob.\n",
            "I am 20 years old.\n"
          ]
        }
      ],
      "source": [
        "print(a)"
      ]
    },
    {
      "cell_type": "code",
      "execution_count": 35,
      "metadata": {
        "id": "cOZqh_YVUDhm",
        "colab": {
          "base_uri": "https://localhost:8080/",
          "height": 35
        },
        "outputId": "72cadaae-356b-4711-f698-8becf2315326"
      },
      "outputs": [
        {
          "output_type": "execute_result",
          "data": {
            "text/plain": [
              "\"let's go\""
            ],
            "application/vnd.google.colaboratory.intrinsic+json": {
              "type": "string"
            }
          },
          "metadata": {},
          "execution_count": 35
        }
      ],
      "source": [
        "b = \"let's go\"\n",
        "b"
      ]
    },
    {
      "cell_type": "code",
      "execution_count": 36,
      "metadata": {
        "id": "iEVIFuMVUDfl",
        "colab": {
          "base_uri": "https://localhost:8080/",
          "height": 35
        },
        "outputId": "6d618c56-b28a-4b1f-b142-b5e772f84981"
      },
      "outputs": [
        {
          "output_type": "execute_result",
          "data": {
            "text/plain": [
              "'kgptalkie Youtube Channel and site kgptalkie.com'"
            ],
            "application/vnd.google.colaboratory.intrinsic+json": {
              "type": "string"
            }
          },
          "metadata": {},
          "execution_count": 36
        }
      ],
      "source": [
        "c = 'kgptalkie Youtube Channel and site kgptalkie.com'\n",
        "c"
      ]
    },
    {
      "cell_type": "code",
      "execution_count": 37,
      "metadata": {
        "id": "2NyMOoShUDds",
        "colab": {
          "base_uri": "https://localhost:8080/"
        },
        "outputId": "a451ef51-deaf-4d6f-88d9-2f60a227cd94"
      },
      "outputs": [
        {
          "output_type": "execute_result",
          "data": {
            "text/plain": [
              "('k', 'g', 'p', 't', 'a', 'l', 'k', 'i', 'e')"
            ]
          },
          "metadata": {},
          "execution_count": 37
        }
      ],
      "source": [
        "c[0], c[1], c[2], c[3], c[4], c[5], c[6], c[7], c[8]"
      ]
    },
    {
      "cell_type": "code",
      "source": [
        "c[0:17]"
      ],
      "metadata": {
        "colab": {
          "base_uri": "https://localhost:8080/",
          "height": 35
        },
        "id": "kNtVH_oLWQMO",
        "outputId": "ded5a904-638b-43df-d40b-d6fb2ad04a57"
      },
      "execution_count": 38,
      "outputs": [
        {
          "output_type": "execute_result",
          "data": {
            "text/plain": [
              "'kgptalkie Youtube'"
            ],
            "application/vnd.google.colaboratory.intrinsic+json": {
              "type": "string"
            }
          },
          "metadata": {},
          "execution_count": 38
        }
      ]
    },
    {
      "cell_type": "code",
      "source": [
        "c[-1]"
      ],
      "metadata": {
        "colab": {
          "base_uri": "https://localhost:8080/",
          "height": 35
        },
        "id": "rLj9VKEoWbBc",
        "outputId": "59f55c70-56b8-4f82-b5d5-b62ca39fb166"
      },
      "execution_count": 39,
      "outputs": [
        {
          "output_type": "execute_result",
          "data": {
            "text/plain": [
              "'m'"
            ],
            "application/vnd.google.colaboratory.intrinsic+json": {
              "type": "string"
            }
          },
          "metadata": {},
          "execution_count": 39
        }
      ]
    },
    {
      "cell_type": "code",
      "execution_count": 40,
      "metadata": {
        "id": "lM_1PiegUDbn",
        "colab": {
          "base_uri": "https://localhost:8080/",
          "height": 35
        },
        "outputId": "cf454df1-4635-4ea3-99a6-b9274e70edb9"
      },
      "outputs": [
        {
          "output_type": "execute_result",
          "data": {
            "text/plain": [
              "'moc.eiklatpgk'"
            ],
            "application/vnd.google.colaboratory.intrinsic+json": {
              "type": "string"
            }
          },
          "metadata": {},
          "execution_count": 40
        }
      ],
      "source": [
        "c[-1:-14:-1]"
      ]
    },
    {
      "cell_type": "code",
      "source": [
        "c[::-1]"
      ],
      "metadata": {
        "colab": {
          "base_uri": "https://localhost:8080/",
          "height": 35
        },
        "id": "iRuPtWzGWdTE",
        "outputId": "33b91b55-bece-4178-f2ea-5dd81092174a"
      },
      "execution_count": 41,
      "outputs": [
        {
          "output_type": "execute_result",
          "data": {
            "text/plain": [
              "'moc.eiklatpgk etis dna lennahC ebutuoY eiklatpgk'"
            ],
            "application/vnd.google.colaboratory.intrinsic+json": {
              "type": "string"
            }
          },
          "metadata": {},
          "execution_count": 41
        }
      ]
    },
    {
      "cell_type": "code",
      "execution_count": 42,
      "metadata": {
        "id": "Xvr49vf0UDZQ",
        "colab": {
          "base_uri": "https://localhost:8080/"
        },
        "outputId": "99a4bdc8-a171-430b-9724-50f53ff5eb2b"
      },
      "outputs": [
        {
          "output_type": "execute_result",
          "data": {
            "text/plain": [
              "str"
            ]
          },
          "metadata": {},
          "execution_count": 42
        }
      ],
      "source": [
        "type(c[-1])"
      ]
    },
    {
      "cell_type": "code",
      "source": [
        "x = 'hello'\n",
        "y = 'world'"
      ],
      "metadata": {
        "id": "WhUX-xY9WXuW"
      },
      "execution_count": 43,
      "outputs": []
    },
    {
      "cell_type": "code",
      "execution_count": 44,
      "metadata": {
        "id": "iQkYhVrpUDXN",
        "colab": {
          "base_uri": "https://localhost:8080/",
          "height": 35
        },
        "outputId": "f9b0bdbe-90f3-4a5a-9b10-f7e840ba59d2"
      },
      "outputs": [
        {
          "output_type": "execute_result",
          "data": {
            "text/plain": [
              "'helloworld'"
            ],
            "application/vnd.google.colaboratory.intrinsic+json": {
              "type": "string"
            }
          },
          "metadata": {},
          "execution_count": 44
        }
      ],
      "source": [
        "x + y"
      ]
    },
    {
      "cell_type": "code",
      "execution_count": 45,
      "metadata": {
        "id": "kivXhESSUDU0",
        "colab": {
          "base_uri": "https://localhost:8080/",
          "height": 35
        },
        "outputId": "f35d18a8-2fc5-4374-ec7c-0fc7f5e3eb67"
      },
      "outputs": [
        {
          "output_type": "execute_result",
          "data": {
            "text/plain": [
              "'hello world'"
            ],
            "application/vnd.google.colaboratory.intrinsic+json": {
              "type": "string"
            }
          },
          "metadata": {},
          "execution_count": 45
        }
      ],
      "source": [
        "x + ' ' + y"
      ]
    },
    {
      "cell_type": "markdown",
      "source": [
        "# Slicing"
      ],
      "metadata": {
        "id": "fmlBCDXUXvw_"
      }
    },
    {
      "cell_type": "code",
      "execution_count": 46,
      "metadata": {
        "id": "zez7TPxoUDSw",
        "colab": {
          "base_uri": "https://localhost:8080/",
          "height": 35
        },
        "outputId": "551139a5-dbd1-488f-818d-6f2db890817b"
      },
      "outputs": [
        {
          "output_type": "execute_result",
          "data": {
            "text/plain": [
              "'hello everyone, i am Bob. I am from Kurdistan'"
            ],
            "application/vnd.google.colaboratory.intrinsic+json": {
              "type": "string"
            }
          },
          "metadata": {},
          "execution_count": 46
        }
      ],
      "source": [
        "text = 'hello everyone, i am Bob. I am from Kurdistan'\n",
        "text"
      ]
    },
    {
      "cell_type": "code",
      "source": [
        "len(text)"
      ],
      "metadata": {
        "colab": {
          "base_uri": "https://localhost:8080/"
        },
        "id": "S2qqD5hEXahD",
        "outputId": "0c6597bf-7b26-47cf-9028-dbcc19ecb435"
      },
      "execution_count": 47,
      "outputs": [
        {
          "output_type": "execute_result",
          "data": {
            "text/plain": [
              "45"
            ]
          },
          "metadata": {},
          "execution_count": 47
        }
      ]
    },
    {
      "cell_type": "code",
      "execution_count": 48,
      "metadata": {
        "id": "g4GEpSuOUDQr",
        "colab": {
          "base_uri": "https://localhost:8080/",
          "height": 35
        },
        "outputId": "09a46c26-0168-4849-a921-8744e468dabc"
      },
      "outputs": [
        {
          "output_type": "execute_result",
          "data": {
            "text/plain": [
              "' from Kurdistan'"
            ],
            "application/vnd.google.colaboratory.intrinsic+json": {
              "type": "string"
            }
          },
          "metadata": {},
          "execution_count": 48
        }
      ],
      "source": [
        "text[30:45]"
      ]
    },
    {
      "cell_type": "code",
      "execution_count": 49,
      "metadata": {
        "id": "vVJoOrbeUDOn",
        "colab": {
          "base_uri": "https://localhost:8080/"
        },
        "outputId": "327b2f52-9bed-4c1e-ae55-dce890710d0f"
      },
      "outputs": [
        {
          "output_type": "execute_result",
          "data": {
            "text/plain": [
              "9"
            ]
          },
          "metadata": {},
          "execution_count": 49
        }
      ],
      "source": [
        "len('Kurdistan')"
      ]
    },
    {
      "cell_type": "code",
      "execution_count": 50,
      "metadata": {
        "id": "AqkjaQfrUDKf",
        "colab": {
          "base_uri": "https://localhost:8080/",
          "height": 35
        },
        "outputId": "e20602f1-5dac-4a02-c9e1-1d2177a6041e"
      },
      "outputs": [
        {
          "output_type": "execute_result",
          "data": {
            "text/plain": [
              "' Kurdistan'"
            ],
            "application/vnd.google.colaboratory.intrinsic+json": {
              "type": "string"
            }
          },
          "metadata": {},
          "execution_count": 50
        }
      ],
      "source": [
        "text[-10:]"
      ]
    },
    {
      "cell_type": "markdown",
      "source": [
        "# String Formating and Modification"
      ],
      "metadata": {
        "id": "dHXEO55LYKm6"
      }
    },
    {
      "cell_type": "code",
      "execution_count": 51,
      "metadata": {
        "id": "l5uOcdcTUDIn",
        "colab": {
          "base_uri": "https://localhost:8080/",
          "height": 35
        },
        "outputId": "faa0e529-ec57-4127-fe9c-89ada6d378b5"
      },
      "outputs": [
        {
          "output_type": "execute_result",
          "data": {
            "text/plain": [
              "'hello everyone, i am Bob. I am from Kurdistan'"
            ],
            "application/vnd.google.colaboratory.intrinsic+json": {
              "type": "string"
            }
          },
          "metadata": {},
          "execution_count": 51
        }
      ],
      "source": [
        "text"
      ]
    },
    {
      "cell_type": "code",
      "execution_count": 52,
      "metadata": {
        "id": "FsRjIULzUDGP",
        "colab": {
          "base_uri": "https://localhost:8080/",
          "height": 35
        },
        "outputId": "f7f75be8-552f-463f-d3e6-240ad9897a07"
      },
      "outputs": [
        {
          "output_type": "execute_result",
          "data": {
            "text/plain": [
              "'HELLO EVERYONE, I AM BOB. I AM FROM KURDISTAN'"
            ],
            "application/vnd.google.colaboratory.intrinsic+json": {
              "type": "string"
            }
          },
          "metadata": {},
          "execution_count": 52
        }
      ],
      "source": [
        "upper_text = text.upper()\n",
        "upper_text"
      ]
    },
    {
      "cell_type": "code",
      "execution_count": 53,
      "metadata": {
        "id": "AQQDJN_LUDEU",
        "colab": {
          "base_uri": "https://localhost:8080/",
          "height": 35
        },
        "outputId": "63e7ed91-4971-4e83-ec7a-109e06441148"
      },
      "outputs": [
        {
          "output_type": "execute_result",
          "data": {
            "text/plain": [
              "'hello everyone, i am bob. i am from kurdistan'"
            ],
            "application/vnd.google.colaboratory.intrinsic+json": {
              "type": "string"
            }
          },
          "metadata": {},
          "execution_count": 53
        }
      ],
      "source": [
        "lower_text = text.lower()\n",
        "lower_text"
      ]
    },
    {
      "cell_type": "code",
      "execution_count": 54,
      "metadata": {
        "id": "QV6e1bsURafz",
        "colab": {
          "base_uri": "https://localhost:8080/",
          "height": 35
        },
        "outputId": "5be49935-d1e8-47b5-c0aa-cc4fc6653f54"
      },
      "outputs": [
        {
          "output_type": "execute_result",
          "data": {
            "text/plain": [
              "'Hello Everyone, I Am Bob. I Am From Kurdistan'"
            ],
            "application/vnd.google.colaboratory.intrinsic+json": {
              "type": "string"
            }
          },
          "metadata": {},
          "execution_count": 54
        }
      ],
      "source": [
        "title_text = text.title()\n",
        "title_text"
      ]
    },
    {
      "cell_type": "code",
      "execution_count": 55,
      "metadata": {
        "id": "9IhZTUOxQSeh",
        "colab": {
          "base_uri": "https://localhost:8080/",
          "height": 35
        },
        "outputId": "1e78ebf6-5e78-4e60-a675-428c71ae7817"
      },
      "outputs": [
        {
          "output_type": "execute_result",
          "data": {
            "text/plain": [
              "'hello everyone, i am Bob. I am from Kurdistan'"
            ],
            "application/vnd.google.colaboratory.intrinsic+json": {
              "type": "string"
            }
          },
          "metadata": {},
          "execution_count": 55
        }
      ],
      "source": [
        "striped_text = text.strip()\n",
        "striped_text"
      ]
    },
    {
      "cell_type": "code",
      "source": [
        "replaced_text = text.replace(' ', '-')\n",
        "replaced_text"
      ],
      "metadata": {
        "colab": {
          "base_uri": "https://localhost:8080/",
          "height": 35
        },
        "id": "-8dmDcbMZATL",
        "outputId": "dcc947ce-4884-4f16-e718-614331f8b9d4"
      },
      "execution_count": 56,
      "outputs": [
        {
          "output_type": "execute_result",
          "data": {
            "text/plain": [
              "'hello-everyone,-i-am-Bob.-I-am-from-Kurdistan'"
            ],
            "application/vnd.google.colaboratory.intrinsic+json": {
              "type": "string"
            }
          },
          "metadata": {},
          "execution_count": 56
        }
      ]
    },
    {
      "cell_type": "code",
      "execution_count": 57,
      "metadata": {
        "id": "pMGJ-KhEQScc"
      },
      "outputs": [],
      "source": [
        "years = 3\n",
        "age1 = 37\n",
        "age2 = 40\n",
        "text = 'my age is '"
      ]
    },
    {
      "cell_type": "code",
      "execution_count": 58,
      "metadata": {
        "id": "F_0HWb5yQSan",
        "colab": {
          "base_uri": "https://localhost:8080/",
          "height": 35
        },
        "outputId": "334d1497-3920-4291-fa1d-347ae08cb9c8"
      },
      "outputs": [
        {
          "output_type": "execute_result",
          "data": {
            "text/plain": [
              "'my age is 37'"
            ],
            "application/vnd.google.colaboratory.intrinsic+json": {
              "type": "string"
            }
          },
          "metadata": {},
          "execution_count": 58
        }
      ],
      "source": [
        "text + str(age1)"
      ]
    },
    {
      "cell_type": "markdown",
      "source": [
        "> **Format**"
      ],
      "metadata": {
        "id": "yybDFMuycFLU"
      }
    },
    {
      "cell_type": "code",
      "execution_count": 59,
      "metadata": {
        "id": "-bPfFEL2QSYl",
        "colab": {
          "base_uri": "https://localhost:8080/",
          "height": 35
        },
        "outputId": "82009f27-f27a-4636-a89e-34f1287b5196"
      },
      "outputs": [
        {
          "output_type": "execute_result",
          "data": {
            "text/plain": [
              "'My age is currently 37, and after 3 years, it will be 40.'"
            ],
            "application/vnd.google.colaboratory.intrinsic+json": {
              "type": "string"
            }
          },
          "metadata": {},
          "execution_count": 59
        }
      ],
      "source": [
        "text = 'My age is currently {}, and after {} years, it will be {}.'\n",
        "text.format(age1, years, age2)"
      ]
    },
    {
      "cell_type": "code",
      "source": [
        "print(f'My age is currently {age1}, and after {years} years, it will be {age2}.')"
      ],
      "metadata": {
        "colab": {
          "base_uri": "https://localhost:8080/"
        },
        "id": "ySOww89nbGnZ",
        "outputId": "280e1f59-22ab-4d4a-a334-79645a218508"
      },
      "execution_count": 60,
      "outputs": [
        {
          "output_type": "stream",
          "name": "stdout",
          "text": [
            "My age is currently 37, and after 3 years, it will be 40.\n"
          ]
        }
      ]
    },
    {
      "cell_type": "markdown",
      "source": [
        "# Boolean Variables and Evaluation"
      ],
      "metadata": {
        "id": "L2y6I8CvcWLd"
      }
    },
    {
      "cell_type": "code",
      "source": [
        "True, False"
      ],
      "metadata": {
        "colab": {
          "base_uri": "https://localhost:8080/"
        },
        "id": "sJbB8dDZcclv",
        "outputId": "f380e85c-0da7-48bb-9f8d-66920f2ea827"
      },
      "execution_count": 61,
      "outputs": [
        {
          "output_type": "execute_result",
          "data": {
            "text/plain": [
              "(True, False)"
            ]
          },
          "metadata": {},
          "execution_count": 61
        }
      ]
    },
    {
      "cell_type": "code",
      "source": [
        "1 > 2"
      ],
      "metadata": {
        "colab": {
          "base_uri": "https://localhost:8080/"
        },
        "id": "yP8wvZvTccjq",
        "outputId": "f2769fa9-cc3b-4a82-d643-6b5ee9594df2"
      },
      "execution_count": 62,
      "outputs": [
        {
          "output_type": "execute_result",
          "data": {
            "text/plain": [
              "False"
            ]
          },
          "metadata": {},
          "execution_count": 62
        }
      ]
    },
    {
      "cell_type": "code",
      "source": [
        "1 != 2"
      ],
      "metadata": {
        "colab": {
          "base_uri": "https://localhost:8080/"
        },
        "id": "oIKido4qcchn",
        "outputId": "a541238a-446f-447c-de6f-376d3d2f1f08"
      },
      "execution_count": 63,
      "outputs": [
        {
          "output_type": "execute_result",
          "data": {
            "text/plain": [
              "True"
            ]
          },
          "metadata": {},
          "execution_count": 63
        }
      ]
    },
    {
      "cell_type": "code",
      "source": [
        "1 == 1"
      ],
      "metadata": {
        "colab": {
          "base_uri": "https://localhost:8080/"
        },
        "id": "mpO1Vuh_ccff",
        "outputId": "da0eace8-812a-4a35-afa4-be2ea42217b7"
      },
      "execution_count": 64,
      "outputs": [
        {
          "output_type": "execute_result",
          "data": {
            "text/plain": [
              "True"
            ]
          },
          "metadata": {},
          "execution_count": 64
        }
      ]
    },
    {
      "cell_type": "code",
      "source": [
        "1 == '1'"
      ],
      "metadata": {
        "colab": {
          "base_uri": "https://localhost:8080/"
        },
        "id": "iJC-TXelc40z",
        "outputId": "fe4c473e-c5db-458d-879f-4b2934dcf41b"
      },
      "execution_count": 65,
      "outputs": [
        {
          "output_type": "execute_result",
          "data": {
            "text/plain": [
              "False"
            ]
          },
          "metadata": {},
          "execution_count": 65
        }
      ]
    },
    {
      "cell_type": "code",
      "source": [
        "type(1 == 1)"
      ],
      "metadata": {
        "colab": {
          "base_uri": "https://localhost:8080/"
        },
        "id": "D-QAco9Lccda",
        "outputId": "482dc98a-1d5b-44c9-de60-bfe9626910dd"
      },
      "execution_count": 66,
      "outputs": [
        {
          "output_type": "execute_result",
          "data": {
            "text/plain": [
              "bool"
            ]
          },
          "metadata": {},
          "execution_count": 66
        }
      ]
    },
    {
      "cell_type": "code",
      "source": [
        "text"
      ],
      "metadata": {
        "colab": {
          "base_uri": "https://localhost:8080/",
          "height": 35
        },
        "id": "wkHgQrQGccbp",
        "outputId": "f3cff85d-1fd4-433d-da79-adb598c13f1c"
      },
      "execution_count": 67,
      "outputs": [
        {
          "output_type": "execute_result",
          "data": {
            "text/plain": [
              "'My age is currently {}, and after {} years, it will be {}.'"
            ],
            "application/vnd.google.colaboratory.intrinsic+json": {
              "type": "string"
            }
          },
          "metadata": {},
          "execution_count": 67
        }
      ]
    },
    {
      "cell_type": "code",
      "source": [
        "'Kurdistan' in text"
      ],
      "metadata": {
        "colab": {
          "base_uri": "https://localhost:8080/"
        },
        "id": "taFdbA3xbGlU",
        "outputId": "9348d76d-ff57-4b2c-a02c-f672c19bbc80"
      },
      "execution_count": 68,
      "outputs": [
        {
          "output_type": "execute_result",
          "data": {
            "text/plain": [
              "False"
            ]
          },
          "metadata": {},
          "execution_count": 68
        }
      ]
    },
    {
      "cell_type": "markdown",
      "source": [
        "# List"
      ],
      "metadata": {
        "id": "pV4L8s2UdJzi"
      }
    },
    {
      "cell_type": "code",
      "source": [
        "a = [1, 2, 3, 'four', True]\n",
        "type(a)"
      ],
      "metadata": {
        "colab": {
          "base_uri": "https://localhost:8080/"
        },
        "id": "TcsMou8HdJoX",
        "outputId": "1c70ff8e-2184-43bc-bf6c-c518a63baa67"
      },
      "execution_count": 69,
      "outputs": [
        {
          "output_type": "execute_result",
          "data": {
            "text/plain": [
              "list"
            ]
          },
          "metadata": {},
          "execution_count": 69
        }
      ]
    },
    {
      "cell_type": "code",
      "source": [
        "a.append(5)\n",
        "a"
      ],
      "metadata": {
        "colab": {
          "base_uri": "https://localhost:8080/"
        },
        "id": "JkX6RsnQdJme",
        "outputId": "f8fbc7b2-b06f-41a3-84fb-443fc604bfb2"
      },
      "execution_count": 70,
      "outputs": [
        {
          "output_type": "execute_result",
          "data": {
            "text/plain": [
              "[1, 2, 3, 'four', True, 5]"
            ]
          },
          "metadata": {},
          "execution_count": 70
        }
      ]
    },
    {
      "cell_type": "code",
      "source": [
        "a + [6, 7, 8]"
      ],
      "metadata": {
        "colab": {
          "base_uri": "https://localhost:8080/"
        },
        "id": "9O26YPZfdJkY",
        "outputId": "1266013e-0f8f-4e31-fdcf-a1043971df31"
      },
      "execution_count": 71,
      "outputs": [
        {
          "output_type": "execute_result",
          "data": {
            "text/plain": [
              "[1, 2, 3, 'four', True, 5, 6, 7, 8]"
            ]
          },
          "metadata": {},
          "execution_count": 71
        }
      ]
    },
    {
      "cell_type": "code",
      "source": [
        "a"
      ],
      "metadata": {
        "colab": {
          "base_uri": "https://localhost:8080/"
        },
        "id": "ARkWJ8xed4kF",
        "outputId": "aeed950f-d2a8-47b4-eae7-4351d41aaee0"
      },
      "execution_count": 72,
      "outputs": [
        {
          "output_type": "execute_result",
          "data": {
            "text/plain": [
              "[1, 2, 3, 'four', True, 5]"
            ]
          },
          "metadata": {},
          "execution_count": 72
        }
      ]
    },
    {
      "cell_type": "code",
      "source": [
        "a.extend([6, 7, 8])\n",
        "a"
      ],
      "metadata": {
        "colab": {
          "base_uri": "https://localhost:8080/"
        },
        "id": "0quOnXwcdJiT",
        "outputId": "6c617074-6687-4d9e-d368-f0ff03170ca4"
      },
      "execution_count": 73,
      "outputs": [
        {
          "output_type": "execute_result",
          "data": {
            "text/plain": [
              "[1, 2, 3, 'four', True, 5, 6, 7, 8]"
            ]
          },
          "metadata": {},
          "execution_count": 73
        }
      ]
    },
    {
      "cell_type": "code",
      "source": [
        "a.remove('four')\n",
        "a"
      ],
      "metadata": {
        "colab": {
          "base_uri": "https://localhost:8080/"
        },
        "id": "m7Gc942bdJgO",
        "outputId": "d090b26b-cc43-4ceb-f2ce-a5c261ad59b8"
      },
      "execution_count": 74,
      "outputs": [
        {
          "output_type": "execute_result",
          "data": {
            "text/plain": [
              "[1, 2, 3, True, 5, 6, 7, 8]"
            ]
          },
          "metadata": {},
          "execution_count": 74
        }
      ]
    },
    {
      "cell_type": "code",
      "source": [
        "a.pop() # deleted a[-1]\n",
        "a"
      ],
      "metadata": {
        "colab": {
          "base_uri": "https://localhost:8080/"
        },
        "id": "9w7jJL1odJeI",
        "outputId": "8e4bc4f2-05cf-419a-be64-95c11ba7e271"
      },
      "execution_count": 75,
      "outputs": [
        {
          "output_type": "execute_result",
          "data": {
            "text/plain": [
              "[1, 2, 3, True, 5, 6, 7]"
            ]
          },
          "metadata": {},
          "execution_count": 75
        }
      ]
    },
    {
      "cell_type": "code",
      "source": [
        "a.sort()\n",
        "a"
      ],
      "metadata": {
        "colab": {
          "base_uri": "https://localhost:8080/"
        },
        "id": "itpqV_1pdJcW",
        "outputId": "c8dc44b2-96f4-402d-e49b-e8fbfaa2bcfc"
      },
      "execution_count": 76,
      "outputs": [
        {
          "output_type": "execute_result",
          "data": {
            "text/plain": [
              "[1, True, 2, 3, 5, 6, 7]"
            ]
          },
          "metadata": {},
          "execution_count": 76
        }
      ]
    },
    {
      "cell_type": "code",
      "source": [
        "a.sort(reverse=True)\n",
        "a"
      ],
      "metadata": {
        "colab": {
          "base_uri": "https://localhost:8080/"
        },
        "id": "QCT33VkRbGdP",
        "outputId": "d51e08bb-c4d2-4b89-a579-fdc290287f76"
      },
      "execution_count": 77,
      "outputs": [
        {
          "output_type": "execute_result",
          "data": {
            "text/plain": [
              "[7, 6, 5, 3, 2, 1, True]"
            ]
          },
          "metadata": {},
          "execution_count": 77
        }
      ]
    },
    {
      "cell_type": "markdown",
      "source": [
        "# Tuple"
      ],
      "metadata": {
        "id": "RWuN62jTfiZP"
      }
    },
    {
      "cell_type": "code",
      "source": [
        "a = (1, 2, 3, [4, 5, 6],'four', True)\n",
        "type(a)"
      ],
      "metadata": {
        "colab": {
          "base_uri": "https://localhost:8080/"
        },
        "id": "W6rj5NJdfl5F",
        "outputId": "cf57e32d-2965-41ce-f24e-88f5b06003b0"
      },
      "execution_count": 78,
      "outputs": [
        {
          "output_type": "execute_result",
          "data": {
            "text/plain": [
              "tuple"
            ]
          },
          "metadata": {},
          "execution_count": 78
        }
      ]
    },
    {
      "cell_type": "code",
      "source": [
        "a[3]"
      ],
      "metadata": {
        "colab": {
          "base_uri": "https://localhost:8080/"
        },
        "id": "YjbwRLypfl1v",
        "outputId": "3836b99d-c1f4-47c1-9ed9-6f4fabc8a577"
      },
      "execution_count": 79,
      "outputs": [
        {
          "output_type": "execute_result",
          "data": {
            "text/plain": [
              "[4, 5, 6]"
            ]
          },
          "metadata": {},
          "execution_count": 79
        }
      ]
    },
    {
      "cell_type": "code",
      "source": [
        "b = list(a)\n",
        "b"
      ],
      "metadata": {
        "colab": {
          "base_uri": "https://localhost:8080/"
        },
        "id": "pp4FOGNKflyl",
        "outputId": "db1c3f75-3f9f-45e7-c902-d5c75e331f22"
      },
      "execution_count": 80,
      "outputs": [
        {
          "output_type": "execute_result",
          "data": {
            "text/plain": [
              "[1, 2, 3, [4, 5, 6], 'four', True]"
            ]
          },
          "metadata": {},
          "execution_count": 80
        }
      ]
    },
    {
      "cell_type": "code",
      "source": [
        "b.append(7)\n",
        "b"
      ],
      "metadata": {
        "colab": {
          "base_uri": "https://localhost:8080/"
        },
        "id": "kEm2DW4SflwA",
        "outputId": "4d908ae8-b263-40b2-d711-c08e2127adca"
      },
      "execution_count": 81,
      "outputs": [
        {
          "output_type": "execute_result",
          "data": {
            "text/plain": [
              "[1, 2, 3, [4, 5, 6], 'four', True, 7]"
            ]
          },
          "metadata": {},
          "execution_count": 81
        }
      ]
    },
    {
      "cell_type": "code",
      "source": [
        "a = tuple(b)\n",
        "a"
      ],
      "metadata": {
        "colab": {
          "base_uri": "https://localhost:8080/"
        },
        "id": "MF3GlnHufltX",
        "outputId": "cfb99f87-5f34-442f-adba-0900599fee25"
      },
      "execution_count": 82,
      "outputs": [
        {
          "output_type": "execute_result",
          "data": {
            "text/plain": [
              "(1, 2, 3, [4, 5, 6], 'four', True, 7)"
            ]
          },
          "metadata": {},
          "execution_count": 82
        }
      ]
    },
    {
      "cell_type": "code",
      "source": [
        "d = ('Bob', 'Jack', 'Abuzer_Kadayif')"
      ],
      "metadata": {
        "id": "cMB-B64zflqx"
      },
      "execution_count": 83,
      "outputs": []
    },
    {
      "cell_type": "code",
      "source": [
        "a + d"
      ],
      "metadata": {
        "colab": {
          "base_uri": "https://localhost:8080/"
        },
        "id": "oa9N93t8flnt",
        "outputId": "6f6c5440-d5ac-43b0-f47d-7e6696635b5d"
      },
      "execution_count": 84,
      "outputs": [
        {
          "output_type": "execute_result",
          "data": {
            "text/plain": [
              "(1, 2, 3, [4, 5, 6], 'four', True, 7, 'Bob', 'Jack', 'Abuzer_Kadayif')"
            ]
          },
          "metadata": {},
          "execution_count": 84
        }
      ]
    },
    {
      "cell_type": "code",
      "source": [
        "d * 2"
      ],
      "metadata": {
        "colab": {
          "base_uri": "https://localhost:8080/"
        },
        "id": "_7xkm_EYflkx",
        "outputId": "f9552852-563e-4e98-b7b8-ed901d3972aa"
      },
      "execution_count": 85,
      "outputs": [
        {
          "output_type": "execute_result",
          "data": {
            "text/plain": [
              "('Bob', 'Jack', 'Abuzer_Kadayif', 'Bob', 'Jack', 'Abuzer_Kadayif')"
            ]
          },
          "metadata": {},
          "execution_count": 85
        }
      ]
    },
    {
      "cell_type": "markdown",
      "source": [
        "# Set"
      ],
      "metadata": {
        "id": "k2mlAX8sgz-n"
      }
    },
    {
      "cell_type": "code",
      "source": [
        "a = {1, 2, 3, 'four'}\n",
        "type(a)"
      ],
      "metadata": {
        "colab": {
          "base_uri": "https://localhost:8080/"
        },
        "id": "Ww021KdMg2Ue",
        "outputId": "7cd41d69-ae24-47f3-a2b9-63468539ce46"
      },
      "execution_count": 86,
      "outputs": [
        {
          "output_type": "execute_result",
          "data": {
            "text/plain": [
              "set"
            ]
          },
          "metadata": {},
          "execution_count": 86
        }
      ]
    },
    {
      "cell_type": "code",
      "source": [
        "a.remove('four')\n",
        "a"
      ],
      "metadata": {
        "colab": {
          "base_uri": "https://localhost:8080/"
        },
        "id": "tt77I3Lsg2R3",
        "outputId": "1ac57246-96b4-4009-f027-4470672c11c1"
      },
      "execution_count": 87,
      "outputs": [
        {
          "output_type": "execute_result",
          "data": {
            "text/plain": [
              "{1, 2, 3}"
            ]
          },
          "metadata": {},
          "execution_count": 87
        }
      ]
    },
    {
      "cell_type": "code",
      "source": [
        "a.add('four')\n",
        "a"
      ],
      "metadata": {
        "colab": {
          "base_uri": "https://localhost:8080/"
        },
        "id": "2-E3BE11g2PD",
        "outputId": "5f5642a7-ff1c-434f-d68c-daeeb5009f55"
      },
      "execution_count": 88,
      "outputs": [
        {
          "output_type": "execute_result",
          "data": {
            "text/plain": [
              "{1, 2, 3, 'four'}"
            ]
          },
          "metadata": {},
          "execution_count": 88
        }
      ]
    },
    {
      "cell_type": "code",
      "source": [
        "a.update([5, 6, 7, 7, 6, 5])\n",
        "a"
      ],
      "metadata": {
        "colab": {
          "base_uri": "https://localhost:8080/"
        },
        "id": "pzYKiG5ug2MI",
        "outputId": "ecf4ad79-a09d-4b8b-ebe5-cd8d30efdef9"
      },
      "execution_count": 89,
      "outputs": [
        {
          "output_type": "execute_result",
          "data": {
            "text/plain": [
              "{1, 2, 3, 5, 6, 7, 'four'}"
            ]
          },
          "metadata": {},
          "execution_count": 89
        }
      ]
    },
    {
      "cell_type": "code",
      "source": [
        "a, b"
      ],
      "metadata": {
        "colab": {
          "base_uri": "https://localhost:8080/"
        },
        "id": "j97j7CkOg2Ja",
        "outputId": "535489db-83ad-4706-b0db-1c2fb15baf40"
      },
      "execution_count": 90,
      "outputs": [
        {
          "output_type": "execute_result",
          "data": {
            "text/plain": [
              "({1, 2, 3, 5, 6, 7, 'four'}, [1, 2, 3, [4, 5, 6], 'four', True, 7])"
            ]
          },
          "metadata": {},
          "execution_count": 90
        }
      ]
    },
    {
      "cell_type": "markdown",
      "source": [
        "# Dictionary"
      ],
      "metadata": {
        "id": "oDsTxtg3i262"
      }
    },
    {
      "cell_type": "code",
      "source": [
        "a = {\n",
        "    'key1':'value1',\n",
        "    'key2':'value2',\n",
        "    'key3':'value3'\n",
        "     }\n",
        "type(a)"
      ],
      "metadata": {
        "colab": {
          "base_uri": "https://localhost:8080/"
        },
        "id": "y3p1aFBvflYi",
        "outputId": "91b90118-7d63-417d-fb39-28e423b7b729"
      },
      "execution_count": 91,
      "outputs": [
        {
          "output_type": "execute_result",
          "data": {
            "text/plain": [
              "dict"
            ]
          },
          "metadata": {},
          "execution_count": 91
        }
      ]
    },
    {
      "cell_type": "code",
      "source": [
        "b = {\n",
        "    'key1':1,\n",
        "    'key2':2,\n",
        "    'key3':3\n",
        "     }\n",
        "b"
      ],
      "metadata": {
        "colab": {
          "base_uri": "https://localhost:8080/"
        },
        "id": "B2Y3Uhg4flVr",
        "outputId": "89ec4a11-0dd9-4966-dae8-1b71882eb731"
      },
      "execution_count": 92,
      "outputs": [
        {
          "output_type": "execute_result",
          "data": {
            "text/plain": [
              "{'key1': 1, 'key2': 2, 'key3': 3}"
            ]
          },
          "metadata": {},
          "execution_count": 92
        }
      ]
    },
    {
      "cell_type": "code",
      "source": [
        "a['key1']"
      ],
      "metadata": {
        "colab": {
          "base_uri": "https://localhost:8080/",
          "height": 35
        },
        "id": "UZ1ACb2XflSz",
        "outputId": "cc6815d0-ee97-486b-9ae6-9618c769af40"
      },
      "execution_count": 93,
      "outputs": [
        {
          "output_type": "execute_result",
          "data": {
            "text/plain": [
              "'value1'"
            ],
            "application/vnd.google.colaboratory.intrinsic+json": {
              "type": "string"
            }
          },
          "metadata": {},
          "execution_count": 93
        }
      ]
    },
    {
      "cell_type": "code",
      "source": [
        "b['key4'] = 4\n",
        "b"
      ],
      "metadata": {
        "colab": {
          "base_uri": "https://localhost:8080/"
        },
        "id": "1_wncc_TbGbK",
        "outputId": "490140b9-75d7-41b4-8d2c-0e33a5182d6b"
      },
      "execution_count": 94,
      "outputs": [
        {
          "output_type": "execute_result",
          "data": {
            "text/plain": [
              "{'key1': 1, 'key2': 2, 'key3': 3, 'key4': 4}"
            ]
          },
          "metadata": {},
          "execution_count": 94
        }
      ]
    },
    {
      "cell_type": "code",
      "source": [
        "b.keys()"
      ],
      "metadata": {
        "colab": {
          "base_uri": "https://localhost:8080/"
        },
        "id": "30GA7VfpbGZF",
        "outputId": "10b6bd66-a345-4b8d-ce04-700e919db584"
      },
      "execution_count": 95,
      "outputs": [
        {
          "output_type": "execute_result",
          "data": {
            "text/plain": [
              "dict_keys(['key1', 'key2', 'key3', 'key4'])"
            ]
          },
          "metadata": {},
          "execution_count": 95
        }
      ]
    },
    {
      "cell_type": "code",
      "execution_count": 96,
      "metadata": {
        "id": "FhsIFW6tQOH-",
        "colab": {
          "base_uri": "https://localhost:8080/"
        },
        "outputId": "8c6c7158-15df-498b-aced-b2c8a331c5fa"
      },
      "outputs": [
        {
          "output_type": "execute_result",
          "data": {
            "text/plain": [
              "dict_values(['value1', 'value2', 'value3'])"
            ]
          },
          "metadata": {},
          "execution_count": 96
        }
      ],
      "source": [
        "a.values()"
      ]
    },
    {
      "cell_type": "code",
      "source": [
        "b.pop('key4')\n",
        "b"
      ],
      "metadata": {
        "colab": {
          "base_uri": "https://localhost:8080/"
        },
        "id": "fDwENEP2j0a7",
        "outputId": "4df18f45-5356-42e8-9279-0ed2054e0025"
      },
      "execution_count": 97,
      "outputs": [
        {
          "output_type": "execute_result",
          "data": {
            "text/plain": [
              "{'key1': 1, 'key2': 2, 'key3': 3}"
            ]
          },
          "metadata": {},
          "execution_count": 97
        }
      ]
    },
    {
      "cell_type": "code",
      "source": [
        "b.popitem()\n",
        "b"
      ],
      "metadata": {
        "colab": {
          "base_uri": "https://localhost:8080/"
        },
        "id": "_oP_vNeSj0Y2",
        "outputId": "cffd290f-fae3-4cca-d6ec-73282d77b2ef"
      },
      "execution_count": 98,
      "outputs": [
        {
          "output_type": "execute_result",
          "data": {
            "text/plain": [
              "{'key1': 1, 'key2': 2}"
            ]
          },
          "metadata": {},
          "execution_count": 98
        }
      ]
    },
    {
      "cell_type": "code",
      "source": [
        "b.pop('key2')\n",
        "b"
      ],
      "metadata": {
        "colab": {
          "base_uri": "https://localhost:8080/"
        },
        "id": "Cpy9oYd5j0Wu",
        "outputId": "bbccf2bd-9297-45f7-b456-b09c0b983f99"
      },
      "execution_count": 99,
      "outputs": [
        {
          "output_type": "execute_result",
          "data": {
            "text/plain": [
              "{'key1': 1}"
            ]
          },
          "metadata": {},
          "execution_count": 99
        }
      ]
    },
    {
      "cell_type": "code",
      "source": [
        "b.update({\n",
        "    'key1':1,\n",
        "    'key2':2,\n",
        "    'key3':3\n",
        "     })\n",
        "b"
      ],
      "metadata": {
        "colab": {
          "base_uri": "https://localhost:8080/"
        },
        "id": "dYmjgI4uj0Uo",
        "outputId": "c625a1dd-4e8c-4ecb-fadf-dba96b9eb5a7"
      },
      "execution_count": 100,
      "outputs": [
        {
          "output_type": "execute_result",
          "data": {
            "text/plain": [
              "{'key1': 1, 'key2': 2, 'key3': 3}"
            ]
          },
          "metadata": {},
          "execution_count": 100
        }
      ]
    },
    {
      "cell_type": "code",
      "source": [
        "c = b.copy()\n",
        "c"
      ],
      "metadata": {
        "colab": {
          "base_uri": "https://localhost:8080/"
        },
        "id": "GRdJsWLnj0SW",
        "outputId": "db5b5547-a036-4e0c-beb4-c6467621b4a7"
      },
      "execution_count": 101,
      "outputs": [
        {
          "output_type": "execute_result",
          "data": {
            "text/plain": [
              "{'key1': 1, 'key2': 2, 'key3': 3}"
            ]
          },
          "metadata": {},
          "execution_count": 101
        }
      ]
    },
    {
      "cell_type": "code",
      "source": [
        "c == b"
      ],
      "metadata": {
        "colab": {
          "base_uri": "https://localhost:8080/"
        },
        "id": "1-sQkjVNj0Qe",
        "outputId": "c90ef135-a582-4147-89aa-df157e8afebe"
      },
      "execution_count": 102,
      "outputs": [
        {
          "output_type": "execute_result",
          "data": {
            "text/plain": [
              "True"
            ]
          },
          "metadata": {},
          "execution_count": 102
        }
      ]
    },
    {
      "cell_type": "code",
      "source": [
        "b.update({'c': c})\n",
        "b"
      ],
      "metadata": {
        "colab": {
          "base_uri": "https://localhost:8080/"
        },
        "id": "yWnx0Wx9j0OY",
        "outputId": "251e309b-052c-4820-de70-74f7028e4121"
      },
      "execution_count": 103,
      "outputs": [
        {
          "output_type": "execute_result",
          "data": {
            "text/plain": [
              "{'key1': 1, 'key2': 2, 'key3': 3, 'c': {'key1': 1, 'key2': 2, 'key3': 3}}"
            ]
          },
          "metadata": {},
          "execution_count": 103
        }
      ]
    },
    {
      "cell_type": "markdown",
      "source": [
        "# Conditional Statements\n",
        "\n",
        "*   If\n",
        "*   Else\n",
        "\n"
      ],
      "metadata": {
        "id": "gZ-HC4zjmTuk"
      }
    },
    {
      "cell_type": "code",
      "source": [
        "a = 100\n",
        "b = 101\n",
        "c = a + b"
      ],
      "metadata": {
        "id": "ZCYla2ngmfxC"
      },
      "execution_count": 104,
      "outputs": []
    },
    {
      "cell_type": "code",
      "source": [
        "if a > b:\n",
        "  print('a is greater than b')\n",
        "else:\n",
        "  print('a is smaller than b')\n",
        "  print(f'sum of a and b is {c}')"
      ],
      "metadata": {
        "colab": {
          "base_uri": "https://localhost:8080/"
        },
        "id": "hdnlKXP8mfus",
        "outputId": "47ef8735-bb13-4561-9f65-5569c763f082"
      },
      "execution_count": 105,
      "outputs": [
        {
          "output_type": "stream",
          "name": "stdout",
          "text": [
            "a is smaller than b\n",
            "sum of a and b is 201\n"
          ]
        }
      ]
    },
    {
      "cell_type": "code",
      "source": [
        "a = 10\n",
        "\n",
        "if a < 10:\n",
        "  print('a is very small number')\n",
        "elif (a < 50) & (a >= 10):\n",
        "  print('a is medium number')\n",
        "else:\n",
        "  print('a is large number')"
      ],
      "metadata": {
        "colab": {
          "base_uri": "https://localhost:8080/"
        },
        "id": "SCKtG1usmfsY",
        "outputId": "3c289cb9-3570-4c6f-e323-6adaa203d06b"
      },
      "execution_count": 106,
      "outputs": [
        {
          "output_type": "stream",
          "name": "stdout",
          "text": [
            "a is medium number\n"
          ]
        }
      ]
    },
    {
      "cell_type": "code",
      "source": [
        "(a < 50) & (a >= 10)"
      ],
      "metadata": {
        "colab": {
          "base_uri": "https://localhost:8080/"
        },
        "id": "_3s3MeEGoQDR",
        "outputId": "54d041ed-8b96-4857-ccce-037a93ea44fd"
      },
      "execution_count": 107,
      "outputs": [
        {
          "output_type": "execute_result",
          "data": {
            "text/plain": [
              "True"
            ]
          },
          "metadata": {},
          "execution_count": 107
        }
      ]
    },
    {
      "cell_type": "code",
      "source": [
        "a = 10\n",
        "b = 20"
      ],
      "metadata": {
        "id": "RJJXl-fNmfqT"
      },
      "execution_count": 108,
      "outputs": []
    },
    {
      "cell_type": "code",
      "source": [
        "if (a==10) or (b==20):\n",
        "  print('a is 10 and b is 20')"
      ],
      "metadata": {
        "colab": {
          "base_uri": "https://localhost:8080/"
        },
        "id": "CIJg9w95mfoc",
        "outputId": "1a645218-af1a-4baa-e10f-b5e235bd9149"
      },
      "execution_count": 109,
      "outputs": [
        {
          "output_type": "stream",
          "name": "stdout",
          "text": [
            "a is 10 and b is 20\n"
          ]
        }
      ]
    },
    {
      "cell_type": "code",
      "source": [
        "if (a==10) and (b>19):\n",
        "  print('a is 10 and b is not 20')"
      ],
      "metadata": {
        "colab": {
          "base_uri": "https://localhost:8080/"
        },
        "id": "kqlpgKq_mfmW",
        "outputId": "dbb16b55-e300-4e2d-e7f9-e02c3767e34b"
      },
      "execution_count": 110,
      "outputs": [
        {
          "output_type": "stream",
          "name": "stdout",
          "text": [
            "a is 10 and b is not 20\n"
          ]
        }
      ]
    },
    {
      "cell_type": "markdown",
      "source": [
        "# While Loops"
      ],
      "metadata": {
        "id": "3v91w9uNpQ6G"
      }
    },
    {
      "cell_type": "code",
      "source": [
        "a = 10\n",
        "while a > 5:\n",
        "  print(a)\n",
        "  a = a - 1"
      ],
      "metadata": {
        "colab": {
          "base_uri": "https://localhost:8080/"
        },
        "id": "1IChqUdcmfkG",
        "outputId": "10752fb9-fe4e-46e3-868e-f87c8773c335"
      },
      "execution_count": 111,
      "outputs": [
        {
          "output_type": "stream",
          "name": "stdout",
          "text": [
            "10\n",
            "9\n",
            "8\n",
            "7\n",
            "6\n"
          ]
        }
      ]
    },
    {
      "cell_type": "markdown",
      "source": [
        ">Break"
      ],
      "metadata": {
        "id": "-IzWVOKQ7HIC"
      }
    },
    {
      "cell_type": "code",
      "source": [
        "b = 5\n",
        "while True:\n",
        "  print(b)\n",
        "  b = b - 1\n",
        "  if b == 0:\n",
        "    break"
      ],
      "metadata": {
        "colab": {
          "base_uri": "https://localhost:8080/"
        },
        "id": "nPMYzzRvmfh7",
        "outputId": "88e473fa-240a-49d5-98e0-744d0e461fd6"
      },
      "execution_count": 112,
      "outputs": [
        {
          "output_type": "stream",
          "name": "stdout",
          "text": [
            "5\n",
            "4\n",
            "3\n",
            "2\n",
            "1\n"
          ]
        }
      ]
    },
    {
      "cell_type": "markdown",
      "source": [
        ">Continue"
      ],
      "metadata": {
        "id": "L4uRwKkF7C5T"
      }
    },
    {
      "cell_type": "code",
      "source": [
        "c = 15\n",
        "while c > 0:\n",
        "  c = c - 1\n",
        "  if c % 2 == 0:\n",
        "    continue\n",
        "  print(c)"
      ],
      "metadata": {
        "colab": {
          "base_uri": "https://localhost:8080/"
        },
        "id": "kF4XwRlOmfgX",
        "outputId": "0ab12e4f-04cb-4d8c-c3ce-815dee29394d"
      },
      "execution_count": 113,
      "outputs": [
        {
          "output_type": "stream",
          "name": "stdout",
          "text": [
            "13\n",
            "11\n",
            "9\n",
            "7\n",
            "5\n",
            "3\n",
            "1\n"
          ]
        }
      ]
    },
    {
      "cell_type": "markdown",
      "source": [
        "#For Loops"
      ],
      "metadata": {
        "id": "irdUAA5A77i3"
      }
    },
    {
      "cell_type": "code",
      "source": [
        "a = ['colemerg','amed','hewler','kobane','mahabad']"
      ],
      "metadata": {
        "id": "Drx-oDbimfeE"
      },
      "execution_count": 114,
      "outputs": []
    },
    {
      "cell_type": "code",
      "source": [
        "for i in a:\n",
        "  print(i)"
      ],
      "metadata": {
        "colab": {
          "base_uri": "https://localhost:8080/"
        },
        "id": "CjNS-03cmfbu",
        "outputId": "d3afa781-0bb4-4f16-bea8-3b3d0f9368d9"
      },
      "execution_count": 115,
      "outputs": [
        {
          "output_type": "stream",
          "name": "stdout",
          "text": [
            "colemerg\n",
            "amed\n",
            "hewler\n",
            "kobane\n",
            "mahabad\n"
          ]
        }
      ]
    },
    {
      "cell_type": "code",
      "source": [
        "for i in a:\n",
        "  #Statements\n",
        "  i = i.upper()\n",
        "  print(i)"
      ],
      "metadata": {
        "colab": {
          "base_uri": "https://localhost:8080/"
        },
        "id": "2jRcVRGrj0MG",
        "outputId": "133a6dd1-4289-4879-97c8-c2bfeff96f56"
      },
      "execution_count": 116,
      "outputs": [
        {
          "output_type": "stream",
          "name": "stdout",
          "text": [
            "COLEMERG\n",
            "AMED\n",
            "HEWLER\n",
            "KOBANE\n",
            "MAHABAD\n"
          ]
        }
      ]
    },
    {
      "cell_type": "markdown",
      "source": [
        "Break"
      ],
      "metadata": {
        "id": "0stfDwXG8vub"
      }
    },
    {
      "cell_type": "code",
      "source": [
        "for i in a:\n",
        "  if i == 'hewler':\n",
        "    print('hewler found')\n",
        "    continue\n",
        "  print(i)"
      ],
      "metadata": {
        "colab": {
          "base_uri": "https://localhost:8080/"
        },
        "id": "Img4f63bj0J-",
        "outputId": "4b71b0d3-8775-4f6e-9ffb-1930da615061"
      },
      "execution_count": 117,
      "outputs": [
        {
          "output_type": "stream",
          "name": "stdout",
          "text": [
            "colemerg\n",
            "amed\n",
            "hewler found\n",
            "kobane\n",
            "mahabad\n"
          ]
        }
      ]
    },
    {
      "cell_type": "code",
      "source": [
        "for i in a:\n",
        "    print(i)\n",
        "    if i == 'hewler':\n",
        "      break"
      ],
      "metadata": {
        "colab": {
          "base_uri": "https://localhost:8080/"
        },
        "id": "s6W6QV1Wj0Ez",
        "outputId": "17a08d8b-9c76-4502-ab24-77b8468953c0"
      },
      "execution_count": 118,
      "outputs": [
        {
          "output_type": "stream",
          "name": "stdout",
          "text": [
            "colemerg\n",
            "amed\n",
            "hewler\n"
          ]
        }
      ]
    },
    {
      "cell_type": "code",
      "source": [
        "for i in a:\n",
        "  if i in ['hewler', 'kobane']:\n",
        "    continue\n",
        "  print(i)"
      ],
      "metadata": {
        "colab": {
          "base_uri": "https://localhost:8080/"
        },
        "id": "Tt6XEqboj0CM",
        "outputId": "3a44a100-d7f6-4a38-9c23-0ea734c77623"
      },
      "execution_count": 119,
      "outputs": [
        {
          "output_type": "stream",
          "name": "stdout",
          "text": [
            "colemerg\n",
            "amed\n",
            "mahabad\n"
          ]
        }
      ]
    },
    {
      "cell_type": "code",
      "source": [
        "len_a = len(a)\n",
        "len(a)"
      ],
      "metadata": {
        "colab": {
          "base_uri": "https://localhost:8080/"
        },
        "id": "I-GZEgh79z4A",
        "outputId": "5fcb4a20-2dbf-4b1e-c61f-49a2879bce39"
      },
      "execution_count": 120,
      "outputs": [
        {
          "output_type": "execute_result",
          "data": {
            "text/plain": [
              "5"
            ]
          },
          "metadata": {},
          "execution_count": 120
        }
      ]
    },
    {
      "cell_type": "code",
      "source": [
        "for i in range(5):\n",
        "  print(i)"
      ],
      "metadata": {
        "colab": {
          "base_uri": "https://localhost:8080/"
        },
        "id": "9QVNk8Pg_l5z",
        "outputId": "b2e92d5d-7a65-44a8-81f9-3ced02fac468"
      },
      "execution_count": 121,
      "outputs": [
        {
          "output_type": "stream",
          "name": "stdout",
          "text": [
            "0\n",
            "1\n",
            "2\n",
            "3\n",
            "4\n"
          ]
        }
      ]
    },
    {
      "cell_type": "code",
      "source": [
        "for i in range(len_a):\n",
        "  print(i, a[i])"
      ],
      "metadata": {
        "colab": {
          "base_uri": "https://localhost:8080/"
        },
        "id": "V73gt6Dy9z14",
        "outputId": "9d5f0b20-8ddc-4c84-ced2-37ac62f5a259"
      },
      "execution_count": 122,
      "outputs": [
        {
          "output_type": "stream",
          "name": "stdout",
          "text": [
            "0 colemerg\n",
            "1 amed\n",
            "2 hewler\n",
            "3 kobane\n",
            "4 mahabad\n"
          ]
        }
      ]
    },
    {
      "cell_type": "markdown",
      "source": [
        "#Function"
      ],
      "metadata": {
        "id": "KEsGqZLg_3Eg"
      }
    },
    {
      "cell_type": "code",
      "source": [
        "def my_function(parameters):\n",
        "  print('write your statements')\n",
        "  print(parameters)"
      ],
      "metadata": {
        "id": "_Ap_j7mSABdT"
      },
      "execution_count": 123,
      "outputs": []
    },
    {
      "cell_type": "code",
      "source": [
        "my_function([['hello', 'lolo'],{'cawayi':'basi?'},('nave te','ciye lo?')])"
      ],
      "metadata": {
        "colab": {
          "base_uri": "https://localhost:8080/"
        },
        "id": "zBj8sTBuABbR",
        "outputId": "15a0eb6a-c21e-466c-b39a-c5a389939660"
      },
      "execution_count": 124,
      "outputs": [
        {
          "output_type": "stream",
          "name": "stdout",
          "text": [
            "write your statements\n",
            "[['hello', 'lolo'], {'cawayi': 'basi?'}, ('nave te', 'ciye lo?')]\n"
          ]
        }
      ]
    },
    {
      "cell_type": "code",
      "source": [
        "def add_two_numbers(a, b):\n",
        "  c = a + b\n",
        "  print('a = {} \\nb = {} \\nc = a + b \\nc = {}'.format(a,b,c))"
      ],
      "metadata": {
        "id": "SjeZLzWaABRG"
      },
      "execution_count": 125,
      "outputs": []
    },
    {
      "cell_type": "code",
      "source": [
        "add_two_numbers(10, 20)"
      ],
      "metadata": {
        "colab": {
          "base_uri": "https://localhost:8080/"
        },
        "id": "VlFW1O9lABOu",
        "outputId": "92e50714-5e93-409d-df27-77af7648f2b2"
      },
      "execution_count": 126,
      "outputs": [
        {
          "output_type": "stream",
          "name": "stdout",
          "text": [
            "a = 10 \n",
            "b = 20 \n",
            "c = a + b \n",
            "c = 30\n"
          ]
        }
      ]
    },
    {
      "cell_type": "code",
      "source": [
        "def add_numbers(*params):\n",
        "  print('sum of {} = {}'.format(params, sum(params)))\n",
        "num1 = 10\n",
        "num2 = 20\n",
        "add_two_numbers(num1, num2)"
      ],
      "metadata": {
        "colab": {
          "base_uri": "https://localhost:8080/"
        },
        "id": "VEo4mCiKABLz",
        "outputId": "9431c9bf-2c06-4ada-b9da-875c3dd962f4"
      },
      "execution_count": 127,
      "outputs": [
        {
          "output_type": "stream",
          "name": "stdout",
          "text": [
            "a = 10 \n",
            "b = 20 \n",
            "c = a + b \n",
            "c = 30\n"
          ]
        }
      ]
    },
    {
      "cell_type": "code",
      "source": [
        "def add_numbers(**params):\n",
        "  print('sum of {} = {}'.format(params, sum(params.values())))\n",
        "\n",
        "  total = 0\n",
        "  for i in params.values():\n",
        "    total = total + i\n",
        "  print(f'sum: {total}')\n",
        "\n",
        "  return total\n",
        "\n",
        "add_numbers(num1=10, num2=20, num3=30)"
      ],
      "metadata": {
        "colab": {
          "base_uri": "https://localhost:8080/"
        },
        "id": "6X3Lt6NX9z0C",
        "outputId": "c37c92d6-f58d-4ec6-db0e-8f855a84366e"
      },
      "execution_count": 128,
      "outputs": [
        {
          "output_type": "stream",
          "name": "stdout",
          "text": [
            "sum of {'num1': 10, 'num2': 20, 'num3': 30} = 60\n",
            "sum: 60\n"
          ]
        },
        {
          "output_type": "execute_result",
          "data": {
            "text/plain": [
              "60"
            ]
          },
          "metadata": {},
          "execution_count": 128
        }
      ]
    },
    {
      "cell_type": "markdown",
      "source": [
        "# Working with Date and Time"
      ],
      "metadata": {
        "id": "phF7-RnRJUJz"
      }
    },
    {
      "cell_type": "code",
      "source": [
        "import datetime\n",
        "import time"
      ],
      "metadata": {
        "id": "QchHsBAOACxs"
      },
      "execution_count": 129,
      "outputs": []
    },
    {
      "cell_type": "code",
      "source": [
        "datetime.datetime.now()"
      ],
      "metadata": {
        "colab": {
          "base_uri": "https://localhost:8080/"
        },
        "id": "d3EpvIl9ACtB",
        "outputId": "492dca79-1314-4493-801d-a40b4f58266e"
      },
      "execution_count": 130,
      "outputs": [
        {
          "output_type": "execute_result",
          "data": {
            "text/plain": [
              "datetime.datetime(2025, 2, 13, 18, 47, 28, 159967)"
            ]
          },
          "metadata": {},
          "execution_count": 130
        }
      ]
    },
    {
      "cell_type": "code",
      "source": [
        "datetime.date.today()"
      ],
      "metadata": {
        "colab": {
          "base_uri": "https://localhost:8080/"
        },
        "id": "LgY5atIwACq6",
        "outputId": "1ff721ab-19bc-48fe-b0b7-fbc43a8f7361"
      },
      "execution_count": 131,
      "outputs": [
        {
          "output_type": "execute_result",
          "data": {
            "text/plain": [
              "datetime.date(2025, 2, 13)"
            ]
          },
          "metadata": {},
          "execution_count": 131
        }
      ]
    },
    {
      "cell_type": "code",
      "source": [
        "print(dir(datetime))"
      ],
      "metadata": {
        "colab": {
          "base_uri": "https://localhost:8080/"
        },
        "id": "d5SQA2uEACpF",
        "outputId": "637f557b-64a3-4a29-e788-d8e996d9a541"
      },
      "execution_count": 132,
      "outputs": [
        {
          "output_type": "stream",
          "name": "stdout",
          "text": [
            "['MAXYEAR', 'MINYEAR', 'UTC', '__all__', '__builtins__', '__cached__', '__doc__', '__file__', '__loader__', '__name__', '__package__', '__spec__', 'date', 'datetime', 'datetime_CAPI', 'sys', 'time', 'timedelta', 'timezone', 'tzinfo']\n"
          ]
        }
      ]
    },
    {
      "cell_type": "code",
      "source": [
        "datetime.date(2025, 2, 13)"
      ],
      "metadata": {
        "colab": {
          "base_uri": "https://localhost:8080/"
        },
        "id": "azo-XKsPACnC",
        "outputId": "2207066f-ef43-4960-ebfa-b4becefc292c"
      },
      "execution_count": 133,
      "outputs": [
        {
          "output_type": "execute_result",
          "data": {
            "text/plain": [
              "datetime.date(2025, 2, 13)"
            ]
          },
          "metadata": {},
          "execution_count": 133
        }
      ]
    },
    {
      "cell_type": "code",
      "source": [
        "from datetime import datetime, date, time"
      ],
      "metadata": {
        "id": "PStqVty7AClQ"
      },
      "execution_count": 134,
      "outputs": []
    },
    {
      "cell_type": "code",
      "source": [
        "datetime.now()"
      ],
      "metadata": {
        "colab": {
          "base_uri": "https://localhost:8080/"
        },
        "id": "LWZ1xuj19zv3",
        "outputId": "20d92643-9e5e-4bf2-95a0-a2e7c51c8be8"
      },
      "execution_count": 135,
      "outputs": [
        {
          "output_type": "execute_result",
          "data": {
            "text/plain": [
              "datetime.datetime(2025, 2, 13, 18, 47, 28, 229248)"
            ]
          },
          "metadata": {},
          "execution_count": 135
        }
      ]
    },
    {
      "cell_type": "code",
      "source": [
        "date.today()"
      ],
      "metadata": {
        "colab": {
          "base_uri": "https://localhost:8080/"
        },
        "id": "kLu_kIUiKmxU",
        "outputId": "3cfa4082-c1a1-4efe-dcc8-4db672981da7"
      },
      "execution_count": 136,
      "outputs": [
        {
          "output_type": "execute_result",
          "data": {
            "text/plain": [
              "datetime.date(2025, 2, 13)"
            ]
          },
          "metadata": {},
          "execution_count": 136
        }
      ]
    },
    {
      "cell_type": "code",
      "source": [
        "date1 = date(2024, 2, 13)\n",
        "date2 = date(2025, 2, 13)"
      ],
      "metadata": {
        "id": "pjIHQFRNK06x"
      },
      "execution_count": 137,
      "outputs": []
    },
    {
      "cell_type": "code",
      "source": [
        "tdelta = date2 - date1\n",
        "tdelta"
      ],
      "metadata": {
        "colab": {
          "base_uri": "https://localhost:8080/"
        },
        "id": "6d0xj0zQK03R",
        "outputId": "3da91028-a13e-4d70-e91f-607d8a111790"
      },
      "execution_count": 138,
      "outputs": [
        {
          "output_type": "execute_result",
          "data": {
            "text/plain": [
              "datetime.timedelta(days=366)"
            ]
          },
          "metadata": {},
          "execution_count": 138
        }
      ]
    },
    {
      "cell_type": "code",
      "source": [
        "tdelta.days"
      ],
      "metadata": {
        "colab": {
          "base_uri": "https://localhost:8080/"
        },
        "id": "gJ2Vz_-DK0vX",
        "outputId": "d6689f1c-f901-414e-f825-228c679a91f3"
      },
      "execution_count": 139,
      "outputs": [
        {
          "output_type": "execute_result",
          "data": {
            "text/plain": [
              "366"
            ]
          },
          "metadata": {},
          "execution_count": 139
        }
      ]
    },
    {
      "cell_type": "code",
      "source": [
        "tdelta.total_seconds()"
      ],
      "metadata": {
        "colab": {
          "base_uri": "https://localhost:8080/"
        },
        "id": "T27mUuGGK0q5",
        "outputId": "3cc3719f-6391-46bd-e379-c54dd0e54e8e"
      },
      "execution_count": 140,
      "outputs": [
        {
          "output_type": "execute_result",
          "data": {
            "text/plain": [
              "31622400.0"
            ]
          },
          "metadata": {},
          "execution_count": 140
        }
      ]
    },
    {
      "cell_type": "code",
      "source": [
        "date_string = '2024-02-13'\n",
        "datetime.strptime(date_string, '%Y-%m-%d')"
      ],
      "metadata": {
        "colab": {
          "base_uri": "https://localhost:8080/"
        },
        "id": "qXQXT-dQK0oX",
        "outputId": "59deba89-9c8e-443e-b7af-e2b867d52b90"
      },
      "execution_count": 141,
      "outputs": [
        {
          "output_type": "execute_result",
          "data": {
            "text/plain": [
              "datetime.datetime(2024, 2, 13, 0, 0)"
            ]
          },
          "metadata": {},
          "execution_count": 141
        }
      ]
    },
    {
      "cell_type": "markdown",
      "source": [
        "# File Handling | open( )\n",
        "\n",
        "*   `r` - **Read** -  `Opens a file for reading` (default), error if the file doesn't exist\n",
        "*   `a` - **Append** -  `Opens a file for appending`, creates the file if it doesn't exist\n",
        "*   `w` - **Write** -  `Opens a file for writing`, creates the file if it doesn't exist\n",
        "*   `x` - **Create** -  `Creates the specified file`, returns an error if the file exists\n",
        "*   `b` - **Binary** -  `Opens a file in binary mode`, used for non-text files (images, audio, etc.)\n",
        "*   `t` - **Text** -  `Opens a file in text mode` (default), used for text files."
      ],
      "metadata": {
        "id": "IZyFdcYBQ2U6"
      }
    },
    {
      "cell_type": "markdown",
      "source": [
        "##Create"
      ],
      "metadata": {
        "id": "4M12M5IdbsjX"
      }
    },
    {
      "cell_type": "code",
      "source": [
        "f = open('data.txt', 'x')\n",
        "f.close()"
      ],
      "metadata": {
        "id": "1c2T5SebbdAX"
      },
      "execution_count": 142,
      "outputs": []
    },
    {
      "cell_type": "code",
      "source": [
        "f = open('data.txt')\n",
        "f.read()"
      ],
      "metadata": {
        "colab": {
          "base_uri": "https://localhost:8080/",
          "height": 35
        },
        "id": "3f5ezedYbc9l",
        "outputId": "0c417690-2a77-4a69-da00-1a36593c02f7"
      },
      "execution_count": 143,
      "outputs": [
        {
          "output_type": "execute_result",
          "data": {
            "text/plain": [
              "''"
            ],
            "application/vnd.google.colaboratory.intrinsic+json": {
              "type": "string"
            }
          },
          "metadata": {},
          "execution_count": 143
        }
      ]
    },
    {
      "cell_type": "code",
      "source": [
        "f.close()"
      ],
      "metadata": {
        "id": "kzWiCu8pkPRB"
      },
      "execution_count": 144,
      "outputs": []
    },
    {
      "cell_type": "markdown",
      "source": [
        "##Write"
      ],
      "metadata": {
        "id": "ZvunWZkecuT6"
      }
    },
    {
      "cell_type": "code",
      "source": [
        "# Append mode: Adds data to the end of the file.\n",
        "f = open(\"data.txt\", \"w\")\n",
        "f.write(\"Ich heiße Bob.\")\n",
        "f.write(\"\\n\")\n",
        "f.write(\"Ich komme aus Deutschland.\")\n",
        "f.write(\"\\n\")\n",
        "f.write(\"Ich bin AI Ingenieur.\")\n",
        "f.close()"
      ],
      "metadata": {
        "id": "mb_xsaLWbc6H"
      },
      "execution_count": 145,
      "outputs": []
    },
    {
      "cell_type": "code",
      "source": [
        "f = open('data.txt')\n",
        "f.read()"
      ],
      "metadata": {
        "colab": {
          "base_uri": "https://localhost:8080/",
          "height": 35
        },
        "id": "BooCYPDjeXhu",
        "outputId": "8d26f009-af3a-4236-bbab-a712f4253f21"
      },
      "execution_count": 146,
      "outputs": [
        {
          "output_type": "execute_result",
          "data": {
            "text/plain": [
              "'Ich heiße Bob.\\nIch komme aus Deutschland.\\nIch bin AI Ingenieur.'"
            ],
            "application/vnd.google.colaboratory.intrinsic+json": {
              "type": "string"
            }
          },
          "metadata": {},
          "execution_count": 146
        }
      ]
    },
    {
      "cell_type": "code",
      "source": [
        "f.close()"
      ],
      "metadata": {
        "id": "4DuTn199egCw"
      },
      "execution_count": 147,
      "outputs": []
    },
    {
      "cell_type": "markdown",
      "source": [
        "##Delete"
      ],
      "metadata": {
        "id": "Vs9LexnoiN27"
      }
    },
    {
      "cell_type": "code",
      "source": [
        "f = open(\"data.txt\", \"a+\")\n",
        "f.seek(0)\n",
        "f.truncate()\n",
        "f.close()"
      ],
      "metadata": {
        "id": "hM6u4H_4iVFh"
      },
      "execution_count": 148,
      "outputs": []
    },
    {
      "cell_type": "code",
      "source": [
        "f = open('data.txt')\n",
        "f.read()"
      ],
      "metadata": {
        "colab": {
          "base_uri": "https://localhost:8080/",
          "height": 35
        },
        "id": "Nu8MAfpZiU3l",
        "outputId": "16a4103a-cea5-443e-dcd7-46d24606ea45"
      },
      "execution_count": 149,
      "outputs": [
        {
          "output_type": "execute_result",
          "data": {
            "text/plain": [
              "''"
            ],
            "application/vnd.google.colaboratory.intrinsic+json": {
              "type": "string"
            }
          },
          "metadata": {},
          "execution_count": 149
        }
      ]
    },
    {
      "cell_type": "code",
      "source": [
        "f.close()"
      ],
      "metadata": {
        "id": "nOXA2a07k442"
      },
      "execution_count": 150,
      "outputs": []
    },
    {
      "cell_type": "markdown",
      "source": [
        "##Append"
      ],
      "metadata": {
        "id": "jW9aM7QTeMVq"
      }
    },
    {
      "cell_type": "code",
      "source": [
        "# Append mode: Adds data to the end of the file.\n",
        "f = open(\"data.txt\", \"a\")\n",
        "f.write(\"My name is Robin. I am from Kurdistan.\")\n",
        "f.write(\"\\n\")\n",
        "f.write(\"I am an AI Engineer.\")\n",
        "f.close()"
      ],
      "metadata": {
        "id": "9mzVANlpbc3Q"
      },
      "execution_count": 164,
      "outputs": []
    },
    {
      "cell_type": "code",
      "source": [
        "f = open('data.txt')\n",
        "f.read()"
      ],
      "metadata": {
        "colab": {
          "base_uri": "https://localhost:8080/",
          "height": 35
        },
        "id": "cmiDMNDWbcvt",
        "outputId": "ae9e5ef7-e4c2-4340-a6a5-471d3521eb03"
      },
      "execution_count": 152,
      "outputs": [
        {
          "output_type": "execute_result",
          "data": {
            "text/plain": [
              "'My name is Robin. I am from Kurdistan.'"
            ],
            "application/vnd.google.colaboratory.intrinsic+json": {
              "type": "string"
            }
          },
          "metadata": {},
          "execution_count": 152
        }
      ]
    },
    {
      "cell_type": "code",
      "source": [
        "f.close()"
      ],
      "metadata": {
        "id": "7nUtziupbcsD"
      },
      "execution_count": 153,
      "outputs": []
    },
    {
      "cell_type": "markdown",
      "source": [
        "##Read"
      ],
      "metadata": {
        "id": "5UD3PWWJgiZi"
      }
    },
    {
      "cell_type": "code",
      "source": [
        "f = open(\"data.txt\", \"r\")\n",
        "f.read()"
      ],
      "metadata": {
        "colab": {
          "base_uri": "https://localhost:8080/",
          "height": 35
        },
        "id": "lx-wkjeZbcpQ",
        "outputId": "a2ef38d8-a3c6-4f72-bcc6-f9af7899f4c3"
      },
      "execution_count": 154,
      "outputs": [
        {
          "output_type": "execute_result",
          "data": {
            "text/plain": [
              "'My name is Robin. I am from Kurdistan.'"
            ],
            "application/vnd.google.colaboratory.intrinsic+json": {
              "type": "string"
            }
          },
          "metadata": {},
          "execution_count": 154
        }
      ]
    },
    {
      "cell_type": "code",
      "source": [
        "f.close()"
      ],
      "metadata": {
        "id": "UQCjg6CAlO6C"
      },
      "execution_count": 155,
      "outputs": []
    },
    {
      "cell_type": "code",
      "source": [
        "f = open(\"data.txt\", \"r\")\n",
        "f.readline()"
      ],
      "metadata": {
        "colab": {
          "base_uri": "https://localhost:8080/",
          "height": 35
        },
        "id": "eMIOGquggx3F",
        "outputId": "fcb526ab-371a-4670-b2a5-2acd6dc9e75f"
      },
      "execution_count": 156,
      "outputs": [
        {
          "output_type": "execute_result",
          "data": {
            "text/plain": [
              "'My name is Robin. I am from Kurdistan.'"
            ],
            "application/vnd.google.colaboratory.intrinsic+json": {
              "type": "string"
            }
          },
          "metadata": {},
          "execution_count": 156
        }
      ]
    },
    {
      "cell_type": "code",
      "source": [
        "f.close()"
      ],
      "metadata": {
        "id": "RezsyjgMlXrS"
      },
      "execution_count": 157,
      "outputs": []
    },
    {
      "cell_type": "code",
      "source": [
        "f = open(\"data.txt\", \"r\")\n",
        "f.readlines()"
      ],
      "metadata": {
        "colab": {
          "base_uri": "https://localhost:8080/"
        },
        "id": "tsONtUvwgzA1",
        "outputId": "d1e60145-efb7-4fc3-9936-bd069f51de01"
      },
      "execution_count": 158,
      "outputs": [
        {
          "output_type": "execute_result",
          "data": {
            "text/plain": [
              "['My name is Robin. I am from Kurdistan.']"
            ]
          },
          "metadata": {},
          "execution_count": 158
        }
      ]
    },
    {
      "cell_type": "code",
      "source": [
        "f.close()"
      ],
      "metadata": {
        "id": "g258G2Hbgy-u"
      },
      "execution_count": 159,
      "outputs": []
    },
    {
      "cell_type": "code",
      "source": [
        "f = open(\"data.txt\")\n",
        "data = f.readlines(2)\n",
        "data = [x.strip() for x in data]\n",
        "data"
      ],
      "metadata": {
        "colab": {
          "base_uri": "https://localhost:8080/"
        },
        "id": "tk1usLiUgy86",
        "outputId": "05512bba-c37a-462b-85d6-7f053cd9378a"
      },
      "execution_count": 160,
      "outputs": [
        {
          "output_type": "execute_result",
          "data": {
            "text/plain": [
              "['My name is Robin. I am from Kurdistan.']"
            ]
          },
          "metadata": {},
          "execution_count": 160
        }
      ]
    },
    {
      "cell_type": "code",
      "source": [
        "f.close()"
      ],
      "metadata": {
        "id": "8QJmaXBFgy63"
      },
      "execution_count": 161,
      "outputs": []
    },
    {
      "cell_type": "code",
      "source": [
        "f = open(\"data.txt\")\n",
        "data = f.read()\n",
        "data.splitlines()"
      ],
      "metadata": {
        "colab": {
          "base_uri": "https://localhost:8080/"
        },
        "id": "9yK9t5a9mpiI",
        "outputId": "5fe9e8e8-10eb-40d0-a576-891ac9c6c1b3"
      },
      "execution_count": 162,
      "outputs": [
        {
          "output_type": "execute_result",
          "data": {
            "text/plain": [
              "['My name is Robin. I am from Kurdistan.']"
            ]
          },
          "metadata": {},
          "execution_count": 162
        }
      ]
    },
    {
      "cell_type": "code",
      "source": [
        "f.close()"
      ],
      "metadata": {
        "id": "IHQ-KSysmpgA"
      },
      "execution_count": 163,
      "outputs": []
    },
    {
      "cell_type": "code",
      "source": [],
      "metadata": {
        "id": "yyGY4xF7mpeH"
      },
      "execution_count": 163,
      "outputs": []
    }
  ],
  "metadata": {
    "colab": {
      "provenance": [],
      "authorship_tag": "ABX9TyMP3qvwoPKhKqktpfVWSgWc",
      "include_colab_link": true
    },
    "kernelspec": {
      "display_name": "Python 3",
      "name": "python3"
    },
    "language_info": {
      "name": "python"
    }
  },
  "nbformat": 4,
  "nbformat_minor": 0
}